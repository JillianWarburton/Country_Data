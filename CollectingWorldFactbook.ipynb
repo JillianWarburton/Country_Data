{
 "cells": [
  {
   "cell_type": "code",
   "execution_count": 1,
   "id": "481bb2ba",
   "metadata": {},
   "outputs": [],
   "source": [
    "## Data Collection"
   ]
  },
  {
   "cell_type": "code",
   "execution_count": 2,
   "id": "21c91fe5",
   "metadata": {},
   "outputs": [],
   "source": [
    "# import libraries\n",
    "import pandas as pd\n",
    "import numpy as np\n",
    "import re # for regular expressions\n",
    "from bs4 import BeautifulSoup # for web scraping\n",
    "import requests # for url requests \n",
    "from itertools import islice # for cleaning tables on CIA website "
   ]
  },
  {
   "cell_type": "code",
   "execution_count": 3,
   "id": "87005c18",
   "metadata": {},
   "outputs": [
    {
     "data": {
      "text/plain": [
       "200"
      ]
     },
     "execution_count": 3,
     "metadata": {},
     "output_type": "execute_result"
    }
   ],
   "source": [
    "# paste url from CIA World Factbook Country Comparisons page\n",
    "url = 'https://www.cia.gov/the-world-factbook/references/guide-to-country-comparisons/'\n",
    "# make website request for information\n",
    "r = requests.get(url)\n",
    "# check website is responding\n",
    "r.status_code"
   ]
  },
  {
   "cell_type": "code",
   "execution_count": 4,
   "id": "630bdc48",
   "metadata": {},
   "outputs": [],
   "source": [
    "# collect all html from Country Comparisons\n",
    "soup = BeautifulSoup(r.text)"
   ]
  },
  {
   "cell_type": "code",
   "execution_count": 13,
   "id": "6458aac8",
   "metadata": {},
   "outputs": [
    {
     "data": {
      "text/plain": [
       "52"
      ]
     },
     "execution_count": 13,
     "metadata": {},
     "output_type": "execute_result"
    }
   ],
   "source": [
    "# collect all the country comparison chart links from url\n",
    "links = soup.find_all('a', {\"class\":\"link-button bold\"})\n",
    "links = [link['href'] for link in links if \"/country-comparison\" in link['href']]\n",
    "len(links)"
   ]
  },
  {
   "cell_type": "code",
   "execution_count": 6,
   "id": "6b4529ce",
   "metadata": {},
   "outputs": [],
   "source": [
    "# save the specific chart pages I am interested in\n",
    "pages_links = [\"maternal-mortality-ratio\", \"infant-mortality-rate\", \"education-expenditures\", \"unemployment-rate\",\n",
    "               \"gini-index-coefficient-distribution-of-family-income\", \"internet-users\", \"broadband-fixed-subscriptions\"]"
   ]
  },
  {
   "cell_type": "code",
   "execution_count": 7,
   "id": "2cab62db",
   "metadata": {},
   "outputs": [
    {
     "data": {
      "text/plain": [
       "9"
      ]
     },
     "execution_count": 7,
     "metadata": {},
     "output_type": "execute_result"
    }
   ],
   "source": [
    "# grab the country comparison chart links listed in pages_links\n",
    "tables=[]\n",
    "for num in range(len(links)):\n",
    "    for j in range(len(pages_links)):\n",
    "        if pages_links[j] in links[num]:\n",
    "            tables.append(links[num])\n",
    "# remove youth-unemployment-rate page from table_links\n",
    "ele = '/the-world-factbook/field/youth-unemployment-rate-ages-15-24/country-comparison'\n",
    "table_links=[k for l,k in enumerate(tables) if k!=ele]"
   ]
  },
  {
   "cell_type": "code",
   "execution_count": 8,
   "id": "f9d07a27",
   "metadata": {},
   "outputs": [],
   "source": [
    "# create empty dictionary \n",
    "title = {\"page\":[], \"headers\":[], \"cells\":[]}\n",
    "\n",
    "# Grab chart information from each in table_links\n",
    "for url in table_links:\n",
    "    r = requests.get(\"https://www.cia.gov\"+url)\n",
    "    bs = BeautifulSoup(r.text)\n",
    "    #grab page name for reference\n",
    "    page = bs.title.text\n",
    "    title[\"page\"].append(page)\n",
    "    #grab table headers\n",
    "    table = bs.find(class_=\"content-table table-auto\")\n",
    "    table_headers = table.find_all(\"th\")\n",
    "    list_head = []\n",
    "    for header in table_headers:\n",
    "        list_head.append(header.text.strip())\n",
    "    title[\"headers\"].append(list_head)\n",
    "    #grab table cell contents and combine back into rows\n",
    "    content = [row.text for row in table.find_all(\"td\")]\n",
    "    sliced_content = []\n",
    "    #the code below uses islice to read 4 \"cells\" at a time and combine them\n",
    "    for (a,b,c,d) in zip(islice(content,0,None,4), islice(content,1,None,4), \n",
    "                         islice(content,2,None,4), islice(content,3,None,4)):\n",
    "        sliced_content.append([a,b,c,d])\n",
    "    title[\"cells\"].append(sliced_content)"
   ]
  },
  {
   "cell_type": "code",
   "execution_count": 9,
   "id": "7724f147",
   "metadata": {},
   "outputs": [],
   "source": [
    "## Save Data to csv files"
   ]
  },
  {
   "cell_type": "code",
   "execution_count": 10,
   "id": "4ad98e23",
   "metadata": {},
   "outputs": [],
   "source": [
    "# transform tables into dataframes to clean\n",
    "cia_dict = {}\n",
    "for i in range(7):\n",
    "    cia_dict[i] = pd.DataFrame(title[\"cells\"][i], columns=title[\"headers\"][i])"
   ]
  },
  {
   "cell_type": "code",
   "execution_count": 11,
   "id": "6c531a5b",
   "metadata": {},
   "outputs": [],
   "source": [
    "# separate and name each data frame\n",
    "maternal_mortality = cia_dict[0]\n",
    "infant_mortality = cia_dict[1]\n",
    "education_expenditures = cia_dict[2]\n",
    "unemployment = cia_dict[3]\n",
    "gini_index = cia_dict[4]\n",
    "internet_users = cia_dict[5]\n",
    "broadband = cia_dict[6]"
   ]
  },
  {
   "cell_type": "code",
   "execution_count": 12,
   "id": "dc350aa1",
   "metadata": {},
   "outputs": [],
   "source": [
    "# Save the dataframes to .csv files\n",
    "#comment out below files to avoid saving copies\n",
    "#maternal_mortality.to_csv('maternal_mortality.csv', index=False, sep ='\\t')\n",
    "#infant_mortality.to_csv('infant_mortality.csv', index=False, sep ='\\t')\n",
    "#education_expenditures.to_csv('education_expenditures.csv', index=False, sep ='\\t')\n",
    "#unemployment.to_csv('unemployment.csv', index=False, sep ='\\t')\n",
    "#gini_index.to_csv('gini_index.csv', index=False, sep ='\\t')\n",
    "#internet_users.to_csv('internet_users.csv', index=False, sep ='\\t')\n",
    "#broadband.to_csv('broadband.csv', index=False, sep ='\\t')"
   ]
  },
  {
   "cell_type": "code",
   "execution_count": null,
   "id": "1c8611ff",
   "metadata": {},
   "outputs": [],
   "source": []
  }
 ],
 "metadata": {
  "kernelspec": {
   "display_name": "Python 3 (ipykernel)",
   "language": "python",
   "name": "python3"
  },
  "language_info": {
   "codemirror_mode": {
    "name": "ipython",
    "version": 3
   },
   "file_extension": ".py",
   "mimetype": "text/x-python",
   "name": "python",
   "nbconvert_exporter": "python",
   "pygments_lexer": "ipython3",
   "version": "3.9.16"
  }
 },
 "nbformat": 4,
 "nbformat_minor": 5
}
