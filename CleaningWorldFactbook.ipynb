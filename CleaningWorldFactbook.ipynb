{
 "cells": [
  {
   "cell_type": "code",
   "execution_count": 1,
   "id": "c5367322",
   "metadata": {},
   "outputs": [],
   "source": [
    "## Data Cleaning"
   ]
  },
  {
   "cell_type": "code",
   "execution_count": 2,
   "id": "eb933ea3",
   "metadata": {},
   "outputs": [],
   "source": [
    "# import libraries\n",
    "import pandas as pd\n",
    "import numpy as np\n",
    "import re # for RegEx on columns\n",
    "import functools as ft #for reducing 7 merges to one"
   ]
  },
  {
   "cell_type": "code",
   "execution_count": 3,
   "id": "0cae8805",
   "metadata": {},
   "outputs": [],
   "source": [
    "## Import the Data"
   ]
  },
  {
   "cell_type": "code",
   "execution_count": 4,
   "id": "2a6c7246",
   "metadata": {},
   "outputs": [],
   "source": [
    "broadband = pd.read_csv(\"broadband.csv\", sep ='\\t') \n",
    "education = pd.read_csv(\"education_expenditures.csv\", sep ='\\t')\n",
    "gini = pd.read_csv(\"gini_index.csv\", sep ='\\t')\n",
    "infant = pd.read_csv(\"infant_mortality.csv\", sep ='\\t')\n",
    "internet = pd.read_csv(\"internet_users.csv\", sep ='\\t')\n",
    "maternal = pd.read_csv(\"maternal_mortality.csv\", sep ='\\t')\n",
    "unemployment = pd.read_csv(\"unemployment.csv\", sep ='\\t')"
   ]
  },
  {
   "cell_type": "code",
   "execution_count": 5,
   "id": "e4247a89",
   "metadata": {},
   "outputs": [],
   "source": [
    "dfs = [broadband, education, gini, infant, internet, maternal, unemployment]"
   ]
  },
  {
   "cell_type": "code",
   "execution_count": 6,
   "id": "ec7138ad",
   "metadata": {},
   "outputs": [],
   "source": [
    "# change all 'Date of Information' columns to 'date_of_info' with dtype int64\n",
    "for df in dfs:\n",
    "    df.rename(columns = {'Date of Information':'date_of_info'}, inplace = True)\n",
    "    df['date_of_info'] = df['date_of_info'].str.replace(r'\\D+', '', regex=True).apply(pd.to_numeric)"
   ]
  },
  {
   "cell_type": "code",
   "execution_count": 7,
   "id": "c16c741b",
   "metadata": {},
   "outputs": [],
   "source": [
    "# update date_of_info column in infant dataframe to say 2022\n",
    "infant['date_of_info'].fillna(value=2022, inplace=True)"
   ]
  },
  {
   "cell_type": "code",
   "execution_count": 8,
   "id": "5bed3832",
   "metadata": {},
   "outputs": [],
   "source": [
    "# add column name for broadband, gini, and internet\n",
    "broadband.rename(columns = {'Unnamed: 2':'broadband_users'}, inplace = True)\n",
    "gini.rename(columns = {'Unnamed: 2':'gini_index'}, inplace = True)\n",
    "internet.rename(columns = {'Unnamed: 2':'internet_users'}, inplace = True)"
   ]
  },
  {
   "cell_type": "code",
   "execution_count": 9,
   "id": "0b08eb82",
   "metadata": {},
   "outputs": [],
   "source": [
    "# change column name for education, infant, maternal, and unemployment\n",
    "education.rename(columns = {'% of GDP':'percent_education_of_gdp'}, inplace = True)\n",
    "infant.rename(columns = {'deaths/1,000 live births':'infant_deaths_per_1K_births'}, inplace = True)\n",
    "maternal.rename(columns = {'deaths/100,000 live births':'maternal_deaths_per100Kbirths'}, inplace = True)\n",
    "unemployment.rename(columns = {'%':'percent_labor_force_unemployed'}, inplace = True)"
   ]
  },
  {
   "cell_type": "code",
   "execution_count": 10,
   "id": "83c0a66f",
   "metadata": {},
   "outputs": [],
   "source": [
    "# remove commas from numbers in variable columns\n",
    "broadband['broadband_users'] = broadband['broadband_users'].apply(lambda x : x.replace(',','')).apply(pd.to_numeric)\n",
    "internet['internet_users'] = internet['internet_users'].apply(lambda x : x.replace(',','')).apply(pd.to_numeric)\n",
    "maternal['maternal_deaths_per100Kbirths'] = maternal['maternal_deaths_per100Kbirths'].apply(lambda x : x.replace(',','')).apply(pd.to_numeric)"
   ]
  },
  {
   "cell_type": "code",
   "execution_count": 11,
   "id": "70ad7a0c",
   "metadata": {},
   "outputs": [],
   "source": [
    "# rename date_of_info and Rank columns to have suffix of dataframe letter\n",
    "broadband.rename(columns = {'date_of_info':'date_of_info_b','Rank':'Rank_b'}, inplace = True)\n",
    "education.rename(columns = {'date_of_info':'date_of_info_e','Rank':'Rank_e'}, inplace = True)\n",
    "gini.rename(columns = {'date_of_info':'date_of_info_g','Rank':'Rank_g'}, inplace = True)\n",
    "infant.rename(columns = {'date_of_info':'date_of_info_i','Rank':'Rank_i'}, inplace = True)\n",
    "internet.rename(columns = {'date_of_info':'date_of_info_n','Rank':'Rank_n'}, inplace = True)\n",
    "maternal.rename(columns = {'date_of_info':'date_of_info_m','Rank':'Rank_m'}, inplace = True)\n",
    "unemployment.rename(columns = {'date_of_info':'date_of_info_u','Rank':'Rank_u'}, inplace = True)"
   ]
  },
  {
   "cell_type": "code",
   "execution_count": 12,
   "id": "9733f28a",
   "metadata": {},
   "outputs": [],
   "source": [
    "# using functools.reduce merge all data on \"country\" for one dataframe\n",
    "factbook = ft.reduce(lambda left, right: pd.merge(left, right, on='Country', how='outer'), dfs)\n",
    "# rearrange the dataframe columns by column name\n",
    "factbook = factbook[['Country', 'Rank_b', 'date_of_info_b', 'broadband_users', \n",
    "                           'Rank_e', 'date_of_info_e', 'percent_education_of_gdp', \n",
    "                           'Rank_g', 'date_of_info_g', 'gini_index',\n",
    "                           'Rank_i', 'date_of_info_i','infant_deaths_per_1K_births', \n",
    "                           'Rank_n', 'date_of_info_n', 'internet_users',\n",
    "                           'Rank_m', 'date_of_info_m', 'maternal_deaths_per100Kbirths',\n",
    "                           'Rank_u', 'date_of_info_u', 'percent_labor_force_unemployed']]\n"
   ]
  },
  {
   "cell_type": "code",
   "execution_count": 13,
   "id": "f3f7d197",
   "metadata": {},
   "outputs": [],
   "source": [
    "# check new dataframe\n",
    "#factbook.isna().sum()\n",
    "#factbook.shape\n",
    "#factbook.head()"
   ]
  },
  {
   "cell_type": "code",
   "execution_count": 14,
   "id": "cebd0362",
   "metadata": {},
   "outputs": [],
   "source": [
    "## Save the new data file"
   ]
  },
  {
   "cell_type": "code",
   "execution_count": 15,
   "id": "9aee4fb0",
   "metadata": {},
   "outputs": [],
   "source": [
    "#comment out to prevent saving new file copies\n",
    "#factbook.to_csv('factbook.csv')"
   ]
  }
 ],
 "metadata": {
  "kernelspec": {
   "display_name": "Python 3 (ipykernel)",
   "language": "python",
   "name": "python3"
  },
  "language_info": {
   "codemirror_mode": {
    "name": "ipython",
    "version": 3
   },
   "file_extension": ".py",
   "mimetype": "text/x-python",
   "name": "python",
   "nbconvert_exporter": "python",
   "pygments_lexer": "ipython3",
   "version": "3.9.16"
  }
 },
 "nbformat": 4,
 "nbformat_minor": 5
}
